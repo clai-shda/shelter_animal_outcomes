{
 "cells": [
  {
   "cell_type": "code",
   "execution_count": 1,
   "metadata": {
    "collapsed": true
   },
   "outputs": [],
   "source": [
    "import pandas as pd\n",
    "import matplotlib.pyplot as plt\n",
    "\n",
    "%matplotlib inline"
   ]
  },
  {
   "cell_type": "code",
   "execution_count": 2,
   "metadata": {},
   "outputs": [
    {
     "data": {
      "text/html": [
       "<div>\n",
       "<style>\n",
       "    .dataframe thead tr:only-child th {\n",
       "        text-align: right;\n",
       "    }\n",
       "\n",
       "    .dataframe thead th {\n",
       "        text-align: left;\n",
       "    }\n",
       "\n",
       "    .dataframe tbody tr th {\n",
       "        vertical-align: top;\n",
       "    }\n",
       "</style>\n",
       "<table border=\"1\" class=\"dataframe\">\n",
       "  <thead>\n",
       "    <tr style=\"text-align: right;\">\n",
       "      <th></th>\n",
       "      <th>AnimalID</th>\n",
       "      <th>Name</th>\n",
       "      <th>DateTime</th>\n",
       "      <th>OutcomeType</th>\n",
       "      <th>OutcomeSubtype</th>\n",
       "      <th>AnimalType</th>\n",
       "      <th>SexuponOutcome</th>\n",
       "      <th>AgeuponOutcome</th>\n",
       "      <th>Breed</th>\n",
       "      <th>Color</th>\n",
       "    </tr>\n",
       "  </thead>\n",
       "  <tbody>\n",
       "    <tr>\n",
       "      <th>26724</th>\n",
       "      <td>A702446</td>\n",
       "      <td>NaN</td>\n",
       "      <td>2015-05-14 11:56:00</td>\n",
       "      <td>Transfer</td>\n",
       "      <td>Partner</td>\n",
       "      <td>Cat</td>\n",
       "      <td>Intact Male</td>\n",
       "      <td>1 month</td>\n",
       "      <td>Domestic Shorthair Mix</td>\n",
       "      <td>Brown Tabby/White</td>\n",
       "    </tr>\n",
       "    <tr>\n",
       "      <th>26725</th>\n",
       "      <td>A718934</td>\n",
       "      <td>NaN</td>\n",
       "      <td>2016-01-20 18:59:00</td>\n",
       "      <td>Transfer</td>\n",
       "      <td>SCRP</td>\n",
       "      <td>Cat</td>\n",
       "      <td>Spayed Female</td>\n",
       "      <td>3 months</td>\n",
       "      <td>Domestic Shorthair Mix</td>\n",
       "      <td>Brown Tabby</td>\n",
       "    </tr>\n",
       "    <tr>\n",
       "      <th>26726</th>\n",
       "      <td>A698128</td>\n",
       "      <td>Zeus</td>\n",
       "      <td>2015-03-09 13:33:00</td>\n",
       "      <td>Adoption</td>\n",
       "      <td>NaN</td>\n",
       "      <td>Dog</td>\n",
       "      <td>Neutered Male</td>\n",
       "      <td>4 years</td>\n",
       "      <td>Old English Bulldog Mix</td>\n",
       "      <td>White/Tan</td>\n",
       "    </tr>\n",
       "    <tr>\n",
       "      <th>26727</th>\n",
       "      <td>A677478</td>\n",
       "      <td>NaN</td>\n",
       "      <td>2014-04-27 12:22:00</td>\n",
       "      <td>Transfer</td>\n",
       "      <td>Partner</td>\n",
       "      <td>Cat</td>\n",
       "      <td>Intact Male</td>\n",
       "      <td>4 weeks</td>\n",
       "      <td>Domestic Shorthair Mix</td>\n",
       "      <td>Black</td>\n",
       "    </tr>\n",
       "    <tr>\n",
       "      <th>26728</th>\n",
       "      <td>A706629</td>\n",
       "      <td>NaN</td>\n",
       "      <td>2015-07-02 09:00:00</td>\n",
       "      <td>Transfer</td>\n",
       "      <td>SCRP</td>\n",
       "      <td>Cat</td>\n",
       "      <td>Intact Male</td>\n",
       "      <td>1 year</td>\n",
       "      <td>Domestic Shorthair Mix</td>\n",
       "      <td>Brown Tabby/White</td>\n",
       "    </tr>\n",
       "  </tbody>\n",
       "</table>\n",
       "</div>"
      ],
      "text/plain": [
       "      AnimalID  Name             DateTime OutcomeType OutcomeSubtype  \\\n",
       "26724  A702446   NaN  2015-05-14 11:56:00    Transfer        Partner   \n",
       "26725  A718934   NaN  2016-01-20 18:59:00    Transfer           SCRP   \n",
       "26726  A698128  Zeus  2015-03-09 13:33:00    Adoption            NaN   \n",
       "26727  A677478   NaN  2014-04-27 12:22:00    Transfer        Partner   \n",
       "26728  A706629   NaN  2015-07-02 09:00:00    Transfer           SCRP   \n",
       "\n",
       "      AnimalType SexuponOutcome AgeuponOutcome                    Breed  \\\n",
       "26724        Cat    Intact Male        1 month   Domestic Shorthair Mix   \n",
       "26725        Cat  Spayed Female       3 months   Domestic Shorthair Mix   \n",
       "26726        Dog  Neutered Male        4 years  Old English Bulldog Mix   \n",
       "26727        Cat    Intact Male        4 weeks   Domestic Shorthair Mix   \n",
       "26728        Cat    Intact Male         1 year   Domestic Shorthair Mix   \n",
       "\n",
       "                   Color  \n",
       "26724  Brown Tabby/White  \n",
       "26725        Brown Tabby  \n",
       "26726          White/Tan  \n",
       "26727              Black  \n",
       "26728  Brown Tabby/White  "
      ]
     },
     "execution_count": 2,
     "metadata": {},
     "output_type": "execute_result"
    }
   ],
   "source": [
    "df = pd.read_csv('data/train.csv')\n",
    "df.tail(5)"
   ]
  },
  {
   "cell_type": "code",
   "execution_count": 97,
   "metadata": {},
   "outputs": [
    {
     "data": {
      "text/plain": [
       "AnimalID              0\n",
       "Name               7691\n",
       "DateTime              0\n",
       "OutcomeType           0\n",
       "OutcomeSubtype    13612\n",
       "AnimalType            0\n",
       "SexuponOutcome        1\n",
       "AgeuponOutcome       18\n",
       "Breed                 0\n",
       "Color                 0\n",
       "IsNamed               0\n",
       "dtype: int64"
      ]
     },
     "execution_count": 97,
     "metadata": {},
     "output_type": "execute_result"
    }
   ],
   "source": [
    "df.isnull().sum()"
   ]
  },
  {
   "cell_type": "markdown",
   "metadata": {},
   "source": [
    "* **이름 유/무 컬럼 추가 (있으면 1, 없으면 0)**"
   ]
  },
  {
   "cell_type": "code",
   "execution_count": 55,
   "metadata": {},
   "outputs": [
    {
     "data": {
      "text/html": [
       "<div>\n",
       "<style>\n",
       "    .dataframe thead tr:only-child th {\n",
       "        text-align: right;\n",
       "    }\n",
       "\n",
       "    .dataframe thead th {\n",
       "        text-align: left;\n",
       "    }\n",
       "\n",
       "    .dataframe tbody tr th {\n",
       "        vertical-align: top;\n",
       "    }\n",
       "</style>\n",
       "<table border=\"1\" class=\"dataframe\">\n",
       "  <thead>\n",
       "    <tr style=\"text-align: right;\">\n",
       "      <th></th>\n",
       "      <th>Name</th>\n",
       "      <th>IsNamed</th>\n",
       "    </tr>\n",
       "  </thead>\n",
       "  <tbody>\n",
       "    <tr>\n",
       "      <th>0</th>\n",
       "      <td>Hambone</td>\n",
       "      <td>1</td>\n",
       "    </tr>\n",
       "    <tr>\n",
       "      <th>1</th>\n",
       "      <td>Emily</td>\n",
       "      <td>1</td>\n",
       "    </tr>\n",
       "    <tr>\n",
       "      <th>2</th>\n",
       "      <td>Pearce</td>\n",
       "      <td>1</td>\n",
       "    </tr>\n",
       "    <tr>\n",
       "      <th>3</th>\n",
       "      <td>NaN</td>\n",
       "      <td>0</td>\n",
       "    </tr>\n",
       "    <tr>\n",
       "      <th>4</th>\n",
       "      <td>NaN</td>\n",
       "      <td>0</td>\n",
       "    </tr>\n",
       "  </tbody>\n",
       "</table>\n",
       "</div>"
      ],
      "text/plain": [
       "      Name  IsNamed\n",
       "0  Hambone        1\n",
       "1    Emily        1\n",
       "2   Pearce        1\n",
       "3      NaN        0\n",
       "4      NaN        0"
      ]
     },
     "execution_count": 55,
     "metadata": {},
     "output_type": "execute_result"
    }
   ],
   "source": [
    "df['IsNamed'] = df['Name'].apply(lambda x: 0 if pd.isnull(x) else 1)\n",
    "df[['Name', 'IsNamed']].head(5)"
   ]
  },
  {
   "cell_type": "markdown",
   "metadata": {},
   "source": [
    "* ** 나이 컬럼 추가 (단위를 day로 환산)**"
   ]
  },
  {
   "cell_type": "code",
   "execution_count": 107,
   "metadata": {},
   "outputs": [],
   "source": [
    "df['Age'] = df[pd.notnull(df.AgeuponOutcome)]['AgeuponOutcome'].apply(lambda x: int(x.split()[0]) * 7 if 'week' in x \\\n",
    "                                                               else int(x.split()[0]) * 30 if 'month' in x \\\n",
    "                                                               else int(x.split()[0]) * 365 if 'year' in x \\\n",
    "                                                               else int(x.split()[0]) if 'day' in x \\\n",
    "                                                               else 0)"
   ]
  },
  {
   "cell_type": "code",
   "execution_count": 9,
   "metadata": {},
   "outputs": [
    {
     "data": {
      "text/plain": [
       "<matplotlib.axes._subplots.AxesSubplot at 0x10f500828>"
      ]
     },
     "execution_count": 9,
     "metadata": {},
     "output_type": "execute_result"
    },
    {
     "data": {
      "image/png": "[encoded data removed]",
      "text/plain": [
       "<matplotlib.figure.Figure at 0x10f500d30>"
      ]
     },
     "metadata": {},
     "output_type": "display_data"
    }
   ],
   "source": [
    "plt.figure(figsize=(8, 5))\n",
    "sns.countplot(x=df.AnimalType)"
   ]
  },
  {
   "cell_type": "code",
   "execution_count": 10,
   "metadata": {},
   "outputs": [
    {
     "data": {
      "text/plain": [
       "<matplotlib.axes._subplots.AxesSubplot at 0x10fd80518>"
      ]
     },
     "execution_count": 10,
     "metadata": {},
     "output_type": "execute_result"
    },
    {
     "data": {
      "image/png": "[encoded data removed]",
      "text/plain": [
       "<matplotlib.figure.Figure at 0x10fde5278>"
      ]
     },
     "metadata": {},
     "output_type": "display_data"
    }
   ],
   "source": [
    "plt.figure(figsize=(8, 5))\n",
    "sns.countplot(x=df.SexuponOutcome)"
   ]
  },
  {
   "cell_type": "code",
   "execution_count": 18,
   "metadata": {
    "scrolled": true
   },
   "outputs": [
    {
     "data": {
      "text/plain": [
       "AgeuponOutcome\n",
       "1 year       3969\n",
       "2 years      3742\n",
       "2 months     3397\n",
       "3 years      1823\n",
       "1 month      1281\n",
       "3 months     1277\n",
       "4 years      1071\n",
       "5 years       992\n",
       "4 months      888\n",
       "6 years       670\n",
       "3 weeks       659\n",
       "5 months      652\n",
       "6 months      588\n",
       "8 years       536\n",
       "7 years       531\n",
       "2 weeks       529\n",
       "10 months     457\n",
       "10 years      446\n",
       "8 months      402\n",
       "4 weeks       334\n",
       "9 years       288\n",
       "7 months      288\n",
       "12 years      234\n",
       "9 months      224\n",
       "1 weeks       171\n",
       "11 months     166\n",
       "1 week        146\n",
       "13 years      143\n",
       "11 years      126\n",
       "3 days        109\n",
       "2 days         99\n",
       "14 years       97\n",
       "15 years       85\n",
       "1 day          66\n",
       "6 days         50\n",
       "4 days         50\n",
       "16 years       36\n",
       "5 days         24\n",
       "0 years        22\n",
       "17 years       17\n",
       "5 weeks        11\n",
       "18 years       10\n",
       "19 years        3\n",
       "20 years        2\n",
       "dtype: int64"
      ]
     },
     "execution_count": 18,
     "metadata": {},
     "output_type": "execute_result"
    }
   ],
   "source": [
    "df.groupby('AgeuponOutcome').size().sort_values(ascending=False)"
   ]
  },
  {
   "cell_type": "code",
   "execution_count": 19,
   "metadata": {
    "scrolled": true
   },
   "outputs": [
    {
     "data": {
      "text/plain": [
       "Breed\n",
       "Domestic Shorthair Mix                             8810\n",
       "Pit Bull Mix                                       1906\n",
       "Chihuahua Shorthair Mix                            1766\n",
       "Labrador Retriever Mix                             1363\n",
       "Domestic Medium Hair Mix                            839\n",
       "German Shepherd Mix                                 575\n",
       "Domestic Longhair Mix                               520\n",
       "Siamese Mix                                         389\n",
       "Australian Cattle Dog Mix                           367\n",
       "Dachshund Mix                                       318\n",
       "Boxer Mix                                           245\n",
       "Miniature Poodle Mix                                233\n",
       "Border Collie Mix                                   229\n",
       "Australian Shepherd Mix                             163\n",
       "Catahoula Mix                                       157\n",
       "Rat Terrier Mix                                     157\n",
       "Jack Russell Terrier Mix                            146\n",
       "Domestic Shorthair                                  143\n",
       "Yorkshire Terrier Mix                               143\n",
       "Chihuahua Longhair Mix                              142\n",
       "Siberian Husky Mix                                  138\n",
       "Miniature Schnauzer Mix                             136\n",
       "Beagle Mix                                          124\n",
       "Rottweiler Mix                                      113\n",
       "American Bulldog Mix                                109\n",
       "Cairn Terrier Mix                                   102\n",
       "Shih Tzu Mix                                        100\n",
       "Chihuahua Shorthair/Dachshund                        98\n",
       "Australian Kelpie Mix                                95\n",
       "Staffordshire Mix                                    94\n",
       "                                                   ... \n",
       "Norwich Terrier/Border Terrier                        1\n",
       "Norwich Terrier/Cairn Terrier                         1\n",
       "Chihuahua Shorthair/French Bulldog                    1\n",
       "Chihuahua Shorthair/Finnish Spitz                     1\n",
       "Norwich Terrier/Pug                                   1\n",
       "Nova Scotia Duck Tolling Retriever                    1\n",
       "Chihuahua Shorthair/Cocker Spaniel                    1\n",
       "Norfolk Terrier                                       1\n",
       "Chihuahua Shorthair/Schipperke                        1\n",
       "Chihuahua Shorthair/Shetland Sheepdog                 1\n",
       "Chinese Sharpei/Airedale Terrier                      1\n",
       "Miniature Schnauzer/Scottish Terrier                  1\n",
       "Miniature Schnauzer/Shih Tzu                          1\n",
       "Chinese Sharpei/Pit Bull                              1\n",
       "Miniature Schnauzer/Soft Coated Wheaten Terrier       1\n",
       "Chinese Sharpei/Great Dane                            1\n",
       "Miniature Schnauzer/West Highland                     1\n",
       "Chinese Sharpei/Basset Hound                          1\n",
       "Chinese Sharpei/Australian Cattle Dog                 1\n",
       "Miniature Schnauzer/Whippet                           1\n",
       "Chihuahua Shorthair/Shih Tzu                          1\n",
       "Munchkin Longhair Mix                                 1\n",
       "Chinese Crested/Papillon                              1\n",
       "Chinese Crested/Chihuahua Longhair                    1\n",
       "Newfoundland/Australian Cattle Dog                    1\n",
       "Newfoundland/Border Collie                            1\n",
       "Newfoundland/Great Pyrenees                           1\n",
       "Newfoundland/Queensland Heeler                        1\n",
       "Chihuahua Shorthair/Smooth Fox Terrier                1\n",
       "Yorkshire Terrier/Toy Poodle                          1\n",
       "Length: 1380, dtype: int64"
      ]
     },
     "execution_count": 19,
     "metadata": {},
     "output_type": "execute_result"
    }
   ],
   "source": [
    "df.groupby('Breed').size().sort_values(ascending=False)"
   ]
  },
  {
   "cell_type": "code",
   "execution_count": 22,
   "metadata": {
    "scrolled": true
   },
   "outputs": [
    {
     "data": {
      "text/plain": [
       "Color\n",
       "Black/White                    2824\n",
       "Black                          2292\n",
       "Brown Tabby                    1635\n",
       "Brown Tabby/White               940\n",
       "White                           931\n",
       "Brown/White                     884\n",
       "Orange Tabby                    841\n",
       "Tan/White                       773\n",
       "Tricolor                        752\n",
       "Blue/White                      702\n",
       "Black/Tan                       672\n",
       "White/Black                     643\n",
       "Brown                           639\n",
       "Tan                             628\n",
       "White/Brown                     569\n",
       "Tortie                          530\n",
       "Calico                          517\n",
       "Orange Tabby/White              455\n",
       "Blue                            450\n",
       "Brown Brindle/White             450\n",
       "Black/Brown                     436\n",
       "Blue Tabby                      433\n",
       "White/Tan                       389\n",
       "Red                             337\n",
       "Torbie                          335\n",
       "Brown/Black                     333\n",
       "Red/White                       331\n",
       "Blue Tabby/White                241\n",
       "Brown Brindle                   232\n",
       "Chocolate/White                 224\n",
       "                               ... \n",
       "Brown Tabby/Gray Tabby            1\n",
       "Brown Tabby/Brown                 1\n",
       "Brown Merle/Tan                   1\n",
       "Brown Merle/Blue Merle            1\n",
       "Brown Brindle/Brown Merle         1\n",
       "Brown Brindle/Brown Brindle       1\n",
       "Brown Brindle/Blue Tick           1\n",
       "Calico/Brown                      1\n",
       "Chocolate/Brown Brindle           1\n",
       "Lynx Point/Brown Tabby            1\n",
       "Fawn/Tricolor                     1\n",
       "Liver/Buff                        1\n",
       "Liver Tick/White                  1\n",
       "Gray/Red                          1\n",
       "Gray Tabby/Black                  1\n",
       "Gold/Yellow                       1\n",
       "Gold/Tan                          1\n",
       "Gold/Buff                         1\n",
       "Gold/Black                        1\n",
       "Fawn/Brown                        1\n",
       "Chocolate/Brown Merle             1\n",
       "Cream/Seal Point                  1\n",
       "Cream/Red Tick                    1\n",
       "Cream/Red                         1\n",
       "Cream/Orange                      1\n",
       "Chocolate/Red Tick                1\n",
       "Chocolate/Gray                    1\n",
       "Chocolate/Gold                    1\n",
       "Chocolate/Cream                   1\n",
       "Agouti                            1\n",
       "Length: 366, dtype: int64"
      ]
     },
     "execution_count": 22,
     "metadata": {},
     "output_type": "execute_result"
    }
   ],
   "source": [
    "df.groupby('Color').size().sort_values(ascending=False)"
   ]
  },
  {
   "cell_type": "code",
   "execution_count": 23,
   "metadata": {},
   "outputs": [
    {
     "data": {
      "text/plain": [
       "<matplotlib.axes._subplots.AxesSubplot at 0x110114fd0>"
      ]
     },
     "execution_count": 23,
     "metadata": {},
     "output_type": "execute_result"
    },
    {
     "data": {
      "image/png": "[encoded data removed]",
      "text/plain": [
       "<matplotlib.figure.Figure at 0x1101f9208>"
      ]
     },
     "metadata": {},
     "output_type": "display_data"
    }
   ],
   "source": [
    "plt.figure(figsize=(8, 5))\n",
    "sns.countplot(x=df.OutcomeType)"
   ]
  },
  {
   "cell_type": "code",
   "execution_count": 35,
   "metadata": {},
   "outputs": [
    {
     "data": {
      "text/plain": [
       "<matplotlib.axes._subplots.AxesSubplot at 0x115dbf940>"
      ]
     },
     "execution_count": 35,
     "metadata": {},
     "output_type": "execute_result"
    },
    {
     "data": {
      "image/png": "[encoded data removed]",
      "text/plain": [
       "<matplotlib.figure.Figure at 0x1164020f0>"
      ]
     },
     "metadata": {},
     "output_type": "display_data"
    }
   ],
   "source": [
    "plt.figure(figsize=(8, 5))\n",
    "sns.countplot(x=df.OutcomeType, hue=df.AnimalType, data=df, palette=\"Set2\")"
   ]
  },
  {
   "cell_type": "code",
   "execution_count": 94,
   "metadata": {},
   "outputs": [
    {
     "data": {
      "text/plain": [
       "<matplotlib.legend.Legend at 0x11a09df60>"
      ]
     },
     "execution_count": 94,
     "metadata": {},
     "output_type": "execute_result"
    },
    {
     "data": {
      "image/png": "[encoded data removed]",
      "text/plain": [
       "<matplotlib.figure.Figure at 0x11fc014a8>"
      ]
     },
     "metadata": {},
     "output_type": "display_data"
    }
   ],
   "source": [
    "return_to_owner = df[df.OutcomeType == 'Return_to_owner'].groupby('AnimalType').size().values\n",
    "euthanasia = df[df.OutcomeType == 'Euthanasia'].groupby('AnimalType').size().values\n",
    "adoption = df[df.OutcomeType == 'Adoption'].groupby('AnimalType').size().values\n",
    "transfer = df[df.OutcomeType == 'Transfer'].groupby('AnimalType').size().values\n",
    "died = df[df.OutcomeType == 'Died'].groupby('AnimalType').size().values\n",
    "\n",
    "\n",
    "totals = return_to_owner + euthanasia + adoption + transfer + died\n",
    "\n",
    "r_per = return_to_owner / totals * 100\n",
    "e_per = euthanasia / totals * 100\n",
    "a_per = adoption / totals * 100\n",
    "t_per = transfer / totals * 100\n",
    "d_per = died / totals * 100\n",
    "\n",
    "f, ax = plt.subplots(1, figsize=(8, 7))\n",
    "\n",
    "ax.bar(range(len(r_per)), r_per, color='g', label='Return to owner')\n",
    "ax.bar(range(len(e_per)), e_per, color='r', bottom=r_per, label='Euthanasia')\n",
    "ax.bar(range(len(a_per)), a_per, color='b', bottom=r_per + e_per, label='Adoption')\n",
    "ax.bar(range(len(t_per)), t_per, color='m', bottom=r_per + e_per + a_per, label='Transfer')\n",
    "ax.bar(range(len(d_per)), d_per, color='c', bottom=r_per + e_per + a_per + t_per, label='Died')\n",
    "\n",
    "plt.xticks(np.arange(2), ('Cat', 'Dog'))\n",
    "plt.xlabel('AnimalType')\n",
    "plt.ylabel('Percentage')\n",
    "ax.legend(bbox_to_anchor=(1.01, 1), loc=2)"
   ]
  },
  {
   "cell_type": "code",
   "execution_count": 93,
   "metadata": {},
   "outputs": [
    {
     "data": {
      "text/plain": [
       "<matplotlib.legend.Legend at 0x1201fe518>"
      ]
     },
     "execution_count": 93,
     "metadata": {},
     "output_type": "execute_result"
    },
    {
     "data": {
      "image/png": "[encoded data removed]",
      "text/plain": [
       "<matplotlib.figure.Figure at 0x1201fe4a8>"
      ]
     },
     "metadata": {},
     "output_type": "display_data"
    }
   ],
   "source": [
    "return_to_owner = df[df.OutcomeType == 'Return_to_owner'].groupby('SexuponOutcome').size().values\n",
    "euthanasia = df[df.OutcomeType == 'Euthanasia'].groupby('SexuponOutcome').size().values\n",
    "adoption = df[df.OutcomeType == 'Adoption'].groupby('SexuponOutcome').size().values\n",
    "adoption = np.hstack((adoption, np.array([0])))\n",
    "transfer = df[df.OutcomeType == 'Transfer'].groupby('SexuponOutcome').size().values\n",
    "died = df[df.OutcomeType == 'Died'].groupby('SexuponOutcome').size().values\n",
    "\n",
    "totals = return_to_owner + euthanasia + adoption + transfer + died\n",
    "\n",
    "r_per = return_to_owner / totals * 100\n",
    "e_per = euthanasia / totals * 100\n",
    "a_per = adoption / totals * 100\n",
    "t_per = transfer / totals * 100\n",
    "d_per = died / totals * 100\n",
    "\n",
    "f, ax = plt.subplots(1, figsize=(12, 7))\n",
    "\n",
    "ax.bar(range(len(r_per)), r_per, color='g', label='Return to owner')\n",
    "ax.bar(range(len(e_per)), e_per, color='r', bottom=r_per, label='Euthanasia')\n",
    "ax.bar(range(len(a_per)), a_per, color='b', bottom=r_per + e_per, label='Adoption')\n",
    "ax.bar(range(len(t_per)), t_per, color='m', bottom=r_per + e_per + a_per, label='Transfer')\n",
    "ax.bar(range(len(d_per)), d_per, color='c', bottom=r_per + e_per + a_per + t_per, label='Died')\n",
    "\n",
    "plt.xticks(np.arange(5), ('Intact Female', 'Intact Male', 'Neutered Male', 'Spayed Female', 'Unknown'))\n",
    "plt.xlabel('SexuponOutcome')\n",
    "plt.ylabel('Percentage')\n",
    "ax.legend(bbox_to_anchor=(1.01, 1), loc=2)"
   ]
  },
  {
   "cell_type": "code",
   "execution_count": 95,
   "metadata": {},
   "outputs": [
    {
     "data": {
      "text/plain": [
       "<matplotlib.legend.Legend at 0x11b0a4898>"
      ]
     },
     "execution_count": 95,
     "metadata": {},
     "output_type": "execute_result"
    },
    {
     "data": {
      "image/png": "[encoded data removed]",
      "text/plain": [
       "<matplotlib.figure.Figure at 0x11fc01748>"
      ]
     },
     "metadata": {},
     "output_type": "display_data"
    }
   ],
   "source": [
    "return_to_owner = df[df.OutcomeType == 'Return_to_owner'].groupby('IsNamed').size().values\n",
    "euthanasia = df[df.OutcomeType == 'Euthanasia'].groupby('IsNamed').size().values\n",
    "adoption = df[df.OutcomeType == 'Adoption'].groupby('IsNamed').size().values\n",
    "transfer = df[df.OutcomeType == 'Transfer'].groupby('IsNamed').size().values\n",
    "died = df[df.OutcomeType == 'Died'].groupby('IsNamed').size().values\n",
    "\n",
    "totals = return_to_owner + euthanasia + adoption + transfer + died\n",
    "\n",
    "r_per = return_to_owner / totals * 100\n",
    "e_per = euthanasia / totals * 100\n",
    "a_per = adoption / totals * 100\n",
    "t_per = transfer / totals * 100\n",
    "d_per = died / totals * 100\n",
    "\n",
    "f, ax = plt.subplots(1, figsize=(12, 7))\n",
    "\n",
    "ax.bar(range(len(r_per)), r_per, color='g', label='Return to owner')\n",
    "ax.bar(range(len(e_per)), e_per, color='r', bottom=r_per, label='Euthanasia')\n",
    "ax.bar(range(len(a_per)), a_per, color='b', bottom=r_per + e_per, label='Adoption')\n",
    "ax.bar(range(len(t_per)), t_per, color='m', bottom=r_per + e_per + a_per, label='Transfer')\n",
    "ax.bar(range(len(d_per)), d_per, color='c', bottom=r_per + e_per + a_per + t_per, label='Died')\n",
    "\n",
    "plt.xticks(np.arange(2), ('Unnamed', 'Named'))\n",
    "plt.xlabel('IsNamed')\n",
    "plt.ylabel('Percentage')\n",
    "ax.legend(bbox_to_anchor=(1.01, 1), loc=2)"
   ]
  }
 ],
 "metadata": {
  "kernelspec": {
   "display_name": "Python 3",
   "language": "python",
   "name": "python3"
  },
  "language_info": {
   "codemirror_mode": {
    "name": "ipython",
    "version": 3
   },
   "file_extension": ".py",
   "mimetype": "text/x-python",
   "name": "python",
   "nbconvert_exporter": "python",
   "pygments_lexer": "ipython3",
   "version": "3.6.1"
  }
 },
 "nbformat": 4,
 "nbformat_minor": 2
}
